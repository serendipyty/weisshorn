{
 "cells": [
  {
   "cell_type": "code",
   "execution_count": 1,
   "metadata": {},
   "outputs": [],
   "source": [
    "%load_ext autoreload\n",
    "%autoreload 2"
   ]
  },
  {
   "cell_type": "code",
   "execution_count": 2,
   "metadata": {},
   "outputs": [
    {
     "name": "stdout",
     "output_type": "stream",
     "text": [
      "/Users/filippo/work/serendipyty-project/weisshorn-git/examples\r\n"
     ]
    }
   ],
   "source": [
    "!pwd"
   ]
  },
  {
   "cell_type": "code",
   "execution_count": 4,
   "metadata": {},
   "outputs": [
    {
     "name": "stdout",
     "output_type": "stream",
     "text": [
      "/Users/filippo/work/serendipyty-project/weisshorn-git/weisshorn/__init__.py\n"
     ]
    }
   ],
   "source": [
    "import sys\n",
    "\n",
    "# from  weisshorn.simulations.simulation import Simulation\n",
    "import weisshorn\n",
    "print(weisshorn.__file__)"
   ]
  },
  {
   "cell_type": "code",
   "execution_count": 6,
   "metadata": {},
   "outputs": [
    {
     "data": {
      "text/plain": [
       "<module 'weisshorn.simulations.simulation' from '/Users/filippo/work/serendipyty-project/weisshorn-git/weisshorn/simulations/simulation.py'>"
      ]
     },
     "execution_count": 6,
     "metadata": {},
     "output_type": "execute_result"
    }
   ],
   "source": [
    "weisshorn.simulations.simulation"
   ]
  },
  {
   "cell_type": "code",
   "execution_count": null,
   "metadata": {},
   "outputs": [],
   "source": [
    "!cat /Users/filippo/work/serendipyty-project/weisshorn-git/weisshorn/simulations/simulation.py"
   ]
  },
  {
   "cell_type": "code",
   "execution_count": 7,
   "metadata": {},
   "outputs": [
    {
     "data": {
      "text/plain": [
       "<weisshorn.parameters.parameter.Parameter at 0x1121eae48>"
      ]
     },
     "execution_count": 7,
     "metadata": {},
     "output_type": "execute_result"
    }
   ],
   "source": [
    "weisshorn.parameters.parameter.Parameter()"
   ]
  },
  {
   "cell_type": "code",
   "execution_count": 12,
   "metadata": {},
   "outputs": [
    {
     "name": "stdout",
     "output_type": "stream",
     "text": [
      "Ideas.md           README.md          \u001b[34mexamples\u001b[m\u001b[m           \u001b[34mweisshorn\u001b[m\u001b[m\r\n",
      "Install.md         environment.yml    setup.py           \u001b[34mweisshorn.egg-info\u001b[m\u001b[m\r\n"
     ]
    }
   ],
   "source": [
    "!ls .."
   ]
  },
  {
   "cell_type": "code",
   "execution_count": 19,
   "metadata": {},
   "outputs": [
    {
     "name": "stdout",
     "output_type": "stream",
     "text": [
      "The package name is weisshorn\r\n",
      "The module name is weisshorn.weisshorn_guide\r\n",
      "Everything passed\r\n",
      "Go!\r\n"
     ]
    }
   ],
   "source": [
    "!python -m weisshorn"
   ]
  },
  {
   "cell_type": "code",
   "execution_count": null,
   "metadata": {},
   "outputs": [],
   "source": []
  }
 ],
 "metadata": {
  "kernelspec": {
   "display_name": "Weisshorn (3.7)",
   "language": "python",
   "name": "weisshorn"
  },
  "language_info": {
   "codemirror_mode": {
    "name": "ipython",
    "version": 3
   },
   "file_extension": ".py",
   "mimetype": "text/x-python",
   "name": "python",
   "nbconvert_exporter": "python",
   "pygments_lexer": "ipython3",
   "version": "3.7.3"
  }
 },
 "nbformat": 4,
 "nbformat_minor": 2
}
